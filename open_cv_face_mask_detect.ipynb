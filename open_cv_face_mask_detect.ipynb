{
 "cells": [
  {
   "cell_type": "code",
   "execution_count": null,
   "id": "b944aa2d",
   "metadata": {},
   "outputs": [
    {
     "name": "stdout",
     "output_type": "stream",
     "text": [
      "1/1 [==============================] - 1s 682ms/step\n",
      "1/1 [==============================] - 0s 29ms/step\n",
      "1/1 [==============================] - 0s 27ms/step\n",
      "1/1 [==============================] - 0s 32ms/step\n",
      "1/1 [==============================] - 0s 27ms/step\n",
      "1/1 [==============================] - 0s 28ms/step\n",
      "1/1 [==============================] - 0s 33ms/step\n",
      "1/1 [==============================] - 0s 29ms/step\n",
      "1/1 [==============================] - 0s 25ms/step\n",
      "1/1 [==============================] - 0s 28ms/step\n",
      "1/1 [==============================] - 0s 28ms/step\n",
      "1/1 [==============================] - 0s 28ms/step\n"
     ]
    }
   ],
   "source": [
    "import cv2\n",
    "import os\n",
    "import numpy as np\n",
    "from tensorflow.keras.preprocessing.image import img_to_array\n",
    "from tensorflow.keras.models import load_model\n",
    "from tensorflow.keras.applications.mobilenet_v2 import preprocess_input\n",
    "\n",
    "# Fixed the path of the haarcascade_frontalface_alt2.xml file\n",
    "cascPath = os.path.join(cv2.data.haarcascades, \"haarcascade_frontalface_alt2.xml\")\n",
    "faceCascade = cv2.CascadeClassifier(cascPath)\n",
    "\n",
    "# Fixed the path of the mask_recog.h5 file\n",
    "model = load_model(\"my_mask_detector_1.model\")\n",
    "\n",
    "cap = cv2.VideoCapture(0)\n",
    "while True:\n",
    "    # Capture frame-by-frame\n",
    "    ret, frame = cap.read()\n",
    "    if not ret:\n",
    "        break\n",
    "    gray = cv2.cvtColor(frame, cv2.COLOR_BGR2GRAY)\n",
    "    faces = faceCascade.detectMultiScale(gray,\n",
    "                                         scaleFactor=1.1,\n",
    "                                         minNeighbors=5,\n",
    "                                         minSize=(60, 60),\n",
    "                                         flags=cv2.CASCADE_SCALE_IMAGE)\n",
    "    faces_list = []\n",
    "    for (x, y, w, h) in faces:\n",
    "        face_frame = frame[y:y+h, x:x+w]\n",
    "        face_frame = cv2.cvtColor(face_frame, cv2.COLOR_BGR2RGB)\n",
    "        face_frame = cv2.resize(face_frame, (224, 224))\n",
    "        face_frame = img_to_array(face_frame)\n",
    "        face_frame = np.expand_dims(face_frame, axis=0)\n",
    "        face_frame = preprocess_input(face_frame)\n",
    "        faces_list.append(face_frame)\n",
    "\n",
    "    # Moved the prediction outside of the for loop so that it is only called once per frame\n",
    "    if len(faces_list) > 0:\n",
    "        preds = model.predict(faces_list)\n",
    "    else:\n",
    "        preds = []\n",
    "\n",
    "    for (x, y, w, h), pred in zip(faces, preds):\n",
    "        (mask_weared_incorrect, with_mask, without_mask) = pred\n",
    "        \n",
    "        if (with_mask > without_mask and with_mask > mask_weared_incorrect):\n",
    "            label = \"Mask Worn Properly :)\"\n",
    "            color = (0, 255, 0) \n",
    "        elif (without_mask > with_mask and without_mask > mask_weared_incorrect):\n",
    "            label = \"No Mask! (please wear)\"\n",
    "            color = (0, 0, 255)    \n",
    "        else:\n",
    "            label = \"Wear Mask Properly!\"\n",
    "            color = (255, 140, 0)\n",
    "        # include the probability in the label\n",
    "        label = \"{}: {:.2f}%\".format(label,\n",
    "                                     max(with_mask, mask_weared_incorrect, without_mask) * 100)\n",
    "        cv2.putText(frame, label, (x, y - 10),\n",
    "                    cv2.FONT_HERSHEY_SIMPLEX, 0.45, color, 2)\n",
    "        cv2.rectangle(frame, (x, y), (x + w, y + h), color, 2)\n",
    "\n",
    "    # Display the resulting frame\n",
    "    cv2.imshow('Video', frame)\n",
    "\n",
    "    if cv2.waitKey(2) & 0xFF == ord('q'):\n",
    "        break\n",
    "\n",
    "# Release the video capture object and destroy the windows\n",
    "cap.release()\n",
    "cv2.destroyAllWindows()\n"
   ]
  },
  {
   "cell_type": "markdown",
   "id": "61aeb573",
   "metadata": {},
   "source": []
  },
  {
   "cell_type": "code",
   "execution_count": null,
   "id": "4344ee5f",
   "metadata": {},
   "outputs": [],
   "source": []
  }
 ],
 "metadata": {
  "kernelspec": {
   "display_name": "Python 3.10 (tensorflow 2.9)",
   "language": "python",
   "name": "tensorflow2.9"
  },
  "language_info": {
   "codemirror_mode": {
    "name": "ipython",
    "version": 3
   },
   "file_extension": ".py",
   "mimetype": "text/x-python",
   "name": "python",
   "nbconvert_exporter": "python",
   "pygments_lexer": "ipython3",
   "version": "3.10.10"
  }
 },
 "nbformat": 4,
 "nbformat_minor": 5
}
